{
  "cells": [
    {
      "cell_type": "markdown",
      "metadata": {
        "id": "view-in-github",
        "colab_type": "text"
      },
      "source": [
        "<a href=\"https://colab.research.google.com/github/Tharuka-Wijethunga/DQN-for-Lunar-Landing/blob/main/Deep_Q_Learning_for_Lunar_Landing.ipynb\" target=\"_parent\"><img src=\"https://colab.research.google.com/assets/colab-badge.svg\" alt=\"Open In Colab\"/></a>"
      ]
    },
    {
      "cell_type": "markdown",
      "metadata": {
        "id": "LbZcI9ZXHl3a"
      },
      "source": [
        "# Deep Q-Learning for Lunar Landing"
      ]
    },
    {
      "cell_type": "markdown",
      "metadata": {
        "id": "E8yPRjteXgPb"
      },
      "source": [
        "## Part 0 - Installing the required packages and importing the libraries"
      ]
    },
    {
      "cell_type": "markdown",
      "metadata": {
        "id": "slEm5teGWjWU"
      },
      "source": [
        "### Installing Gymnasium"
      ]
    },
    {
      "cell_type": "code",
      "execution_count": 1,
      "metadata": {
        "id": "dbnq3XpoKa_7",
        "colab": {
          "base_uri": "https://localhost:8080/"
        },
        "outputId": "a757204e-7ce0-4401-9148-20ab56e552c7"
      },
      "outputs": [
        {
          "output_type": "stream",
          "name": "stdout",
          "text": [
            "Collecting gymnasium\n",
            "  Downloading gymnasium-0.29.1-py3-none-any.whl (953 kB)\n",
            "\u001b[2K     \u001b[90m━━━━━━━━━━━━━━━━━━━━━━━━━━━━━━━━━━━━━━━━\u001b[0m \u001b[32m953.9/953.9 kB\u001b[0m \u001b[31m6.8 MB/s\u001b[0m eta \u001b[36m0:00:00\u001b[0m\n",
            "\u001b[?25hRequirement already satisfied: numpy>=1.21.0 in /usr/local/lib/python3.10/dist-packages (from gymnasium) (1.25.2)\n",
            "Requirement already satisfied: cloudpickle>=1.2.0 in /usr/local/lib/python3.10/dist-packages (from gymnasium) (2.2.1)\n",
            "Requirement already satisfied: typing-extensions>=4.3.0 in /usr/local/lib/python3.10/dist-packages (from gymnasium) (4.12.0)\n",
            "Collecting farama-notifications>=0.0.1 (from gymnasium)\n",
            "  Downloading Farama_Notifications-0.0.4-py3-none-any.whl (2.5 kB)\n",
            "Installing collected packages: farama-notifications, gymnasium\n",
            "Successfully installed farama-notifications-0.0.4 gymnasium-0.29.1\n",
            "Requirement already satisfied: gymnasium[accept-rom-license,atari] in /usr/local/lib/python3.10/dist-packages (0.29.1)\n",
            "Requirement already satisfied: numpy>=1.21.0 in /usr/local/lib/python3.10/dist-packages (from gymnasium[accept-rom-license,atari]) (1.25.2)\n",
            "Requirement already satisfied: cloudpickle>=1.2.0 in /usr/local/lib/python3.10/dist-packages (from gymnasium[accept-rom-license,atari]) (2.2.1)\n",
            "Requirement already satisfied: typing-extensions>=4.3.0 in /usr/local/lib/python3.10/dist-packages (from gymnasium[accept-rom-license,atari]) (4.12.0)\n",
            "Requirement already satisfied: farama-notifications>=0.0.1 in /usr/local/lib/python3.10/dist-packages (from gymnasium[accept-rom-license,atari]) (0.0.4)\n",
            "Collecting shimmy[atari]<1.0,>=0.1.0 (from gymnasium[accept-rom-license,atari])\n",
            "  Downloading Shimmy-0.2.1-py3-none-any.whl (25 kB)\n",
            "Collecting autorom[accept-rom-license]~=0.4.2 (from gymnasium[accept-rom-license,atari])\n",
            "  Downloading AutoROM-0.4.2-py3-none-any.whl (16 kB)\n",
            "Requirement already satisfied: click in /usr/local/lib/python3.10/dist-packages (from autorom[accept-rom-license]~=0.4.2->gymnasium[accept-rom-license,atari]) (8.1.7)\n",
            "Requirement already satisfied: requests in /usr/local/lib/python3.10/dist-packages (from autorom[accept-rom-license]~=0.4.2->gymnasium[accept-rom-license,atari]) (2.31.0)\n",
            "Requirement already satisfied: tqdm in /usr/local/lib/python3.10/dist-packages (from autorom[accept-rom-license]~=0.4.2->gymnasium[accept-rom-license,atari]) (4.66.4)\n",
            "Collecting AutoROM.accept-rom-license (from autorom[accept-rom-license]~=0.4.2->gymnasium[accept-rom-license,atari])\n",
            "  Downloading AutoROM.accept-rom-license-0.6.1.tar.gz (434 kB)\n",
            "\u001b[2K     \u001b[90m━━━━━━━━━━━━━━━━━━━━━━━━━━━━━━━━━━━━━━━━\u001b[0m \u001b[32m434.7/434.7 kB\u001b[0m \u001b[31m11.1 MB/s\u001b[0m eta \u001b[36m0:00:00\u001b[0m\n",
            "\u001b[?25h  Installing build dependencies ... \u001b[?25l\u001b[?25hdone\n",
            "  Getting requirements to build wheel ... \u001b[?25l\u001b[?25hdone\n",
            "  Preparing metadata (pyproject.toml) ... \u001b[?25l\u001b[?25hdone\n",
            "Collecting ale-py~=0.8.1 (from shimmy[atari]<1.0,>=0.1.0->gymnasium[accept-rom-license,atari])\n",
            "  Downloading ale_py-0.8.1-cp310-cp310-manylinux_2_17_x86_64.manylinux2014_x86_64.whl (1.7 MB)\n",
            "\u001b[2K     \u001b[90m━━━━━━━━━━━━━━━━━━━━━━━━━━━━━━━━━━━━━━━━\u001b[0m \u001b[32m1.7/1.7 MB\u001b[0m \u001b[31m44.9 MB/s\u001b[0m eta \u001b[36m0:00:00\u001b[0m\n",
            "\u001b[?25hRequirement already satisfied: importlib-resources in /usr/local/lib/python3.10/dist-packages (from ale-py~=0.8.1->shimmy[atari]<1.0,>=0.1.0->gymnasium[accept-rom-license,atari]) (6.4.0)\n",
            "Requirement already satisfied: charset-normalizer<4,>=2 in /usr/local/lib/python3.10/dist-packages (from requests->autorom[accept-rom-license]~=0.4.2->gymnasium[accept-rom-license,atari]) (3.3.2)\n",
            "Requirement already satisfied: idna<4,>=2.5 in /usr/local/lib/python3.10/dist-packages (from requests->autorom[accept-rom-license]~=0.4.2->gymnasium[accept-rom-license,atari]) (3.7)\n",
            "Requirement already satisfied: urllib3<3,>=1.21.1 in /usr/local/lib/python3.10/dist-packages (from requests->autorom[accept-rom-license]~=0.4.2->gymnasium[accept-rom-license,atari]) (2.0.7)\n",
            "Requirement already satisfied: certifi>=2017.4.17 in /usr/local/lib/python3.10/dist-packages (from requests->autorom[accept-rom-license]~=0.4.2->gymnasium[accept-rom-license,atari]) (2024.2.2)\n",
            "Building wheels for collected packages: AutoROM.accept-rom-license\n",
            "  Building wheel for AutoROM.accept-rom-license (pyproject.toml) ... \u001b[?25l\u001b[?25hdone\n",
            "  Created wheel for AutoROM.accept-rom-license: filename=AutoROM.accept_rom_license-0.6.1-py3-none-any.whl size=446659 sha256=37e5210389a7fe213ff4b62184ec55aba956d92f5f4b068772d8d9114900def1\n",
            "  Stored in directory: /root/.cache/pip/wheels/6b/1b/ef/a43ff1a2f1736d5711faa1ba4c1f61be1131b8899e6a057811\n",
            "Successfully built AutoROM.accept-rom-license\n",
            "Installing collected packages: ale-py, shimmy, AutoROM.accept-rom-license, autorom\n",
            "Successfully installed AutoROM.accept-rom-license-0.6.1 ale-py-0.8.1 autorom-0.4.2 shimmy-0.2.1\n",
            "Reading package lists... Done\n",
            "Building dependency tree... Done\n",
            "Reading state information... Done\n",
            "The following additional packages will be installed:\n",
            "  swig4.0\n",
            "Suggested packages:\n",
            "  swig-doc swig-examples swig4.0-examples swig4.0-doc\n",
            "The following NEW packages will be installed:\n",
            "  swig swig4.0\n",
            "0 upgraded, 2 newly installed, 0 to remove and 45 not upgraded.\n",
            "Need to get 1,116 kB of archives.\n",
            "After this operation, 5,542 kB of additional disk space will be used.\n",
            "Get:1 http://archive.ubuntu.com/ubuntu jammy/universe amd64 swig4.0 amd64 4.0.2-1ubuntu1 [1,110 kB]\n",
            "Get:2 http://archive.ubuntu.com/ubuntu jammy/universe amd64 swig all 4.0.2-1ubuntu1 [5,632 B]\n",
            "Fetched 1,116 kB in 1s (1,182 kB/s)\n",
            "Selecting previously unselected package swig4.0.\n",
            "(Reading database ... 121918 files and directories currently installed.)\n",
            "Preparing to unpack .../swig4.0_4.0.2-1ubuntu1_amd64.deb ...\n",
            "Unpacking swig4.0 (4.0.2-1ubuntu1) ...\n",
            "Selecting previously unselected package swig.\n",
            "Preparing to unpack .../swig_4.0.2-1ubuntu1_all.deb ...\n",
            "Unpacking swig (4.0.2-1ubuntu1) ...\n",
            "Setting up swig4.0 (4.0.2-1ubuntu1) ...\n",
            "Setting up swig (4.0.2-1ubuntu1) ...\n",
            "Processing triggers for man-db (2.10.2-1) ...\n",
            "Requirement already satisfied: gymnasium[box2d] in /usr/local/lib/python3.10/dist-packages (0.29.1)\n",
            "Requirement already satisfied: numpy>=1.21.0 in /usr/local/lib/python3.10/dist-packages (from gymnasium[box2d]) (1.25.2)\n",
            "Requirement already satisfied: cloudpickle>=1.2.0 in /usr/local/lib/python3.10/dist-packages (from gymnasium[box2d]) (2.2.1)\n",
            "Requirement already satisfied: typing-extensions>=4.3.0 in /usr/local/lib/python3.10/dist-packages (from gymnasium[box2d]) (4.12.0)\n",
            "Requirement already satisfied: farama-notifications>=0.0.1 in /usr/local/lib/python3.10/dist-packages (from gymnasium[box2d]) (0.0.4)\n",
            "Collecting box2d-py==2.3.5 (from gymnasium[box2d])\n",
            "  Downloading box2d-py-2.3.5.tar.gz (374 kB)\n",
            "\u001b[2K     \u001b[90m━━━━━━━━━━━━━━━━━━━━━━━━━━━━━━━━━━━━━━━━\u001b[0m \u001b[32m374.4/374.4 kB\u001b[0m \u001b[31m7.2 MB/s\u001b[0m eta \u001b[36m0:00:00\u001b[0m\n",
            "\u001b[?25h  Preparing metadata (setup.py) ... \u001b[?25l\u001b[?25hdone\n",
            "Requirement already satisfied: pygame>=2.1.3 in /usr/local/lib/python3.10/dist-packages (from gymnasium[box2d]) (2.5.2)\n",
            "Collecting swig==4.* (from gymnasium[box2d])\n",
            "  Downloading swig-4.2.1-py2.py3-none-manylinux_2_5_x86_64.manylinux1_x86_64.whl (1.9 MB)\n",
            "\u001b[2K     \u001b[90m━━━━━━━━━━━━━━━━━━━━━━━━━━━━━━━━━━━━━━━━\u001b[0m \u001b[32m1.9/1.9 MB\u001b[0m \u001b[31m38.9 MB/s\u001b[0m eta \u001b[36m0:00:00\u001b[0m\n",
            "\u001b[?25hBuilding wheels for collected packages: box2d-py\n",
            "  Building wheel for box2d-py (setup.py) ... \u001b[?25l\u001b[?25hdone\n",
            "  Created wheel for box2d-py: filename=box2d_py-2.3.5-cp310-cp310-linux_x86_64.whl size=2349115 sha256=a81f97e37afda1e8768950843cece24798721a75a745c608d26a7d2c57d04640\n",
            "  Stored in directory: /root/.cache/pip/wheels/db/8f/6a/eaaadf056fba10a98d986f6dce954e6201ba3126926fc5ad9e\n",
            "Successfully built box2d-py\n",
            "Installing collected packages: swig, box2d-py\n",
            "Successfully installed box2d-py-2.3.5 swig-4.2.1\n"
          ]
        }
      ],
      "source": [
        "!pip install gymnasium\n",
        "!pip install \"gymnasium[atari, accept-rom-license]\"\n",
        "!apt-get install -y swig\n",
        "!pip install gymnasium[box2d]"
      ]
    },
    {
      "cell_type": "markdown",
      "metadata": {
        "id": "brqiMN3UW9T9"
      },
      "source": [
        "### Importing the libraries"
      ]
    },
    {
      "cell_type": "code",
      "execution_count": 2,
      "metadata": {
        "id": "mZaKXP_aMl9O"
      },
      "outputs": [],
      "source": [
        "import os\n",
        "import random\n",
        "import numpy as np\n",
        "import torch\n",
        "import torch.nn as nn\n",
        "import torch.optim as optim\n",
        "import torch.nn.functional as F\n",
        "import torch.autograd as autograd\n",
        "from torch.autograd import Variable\n",
        "from collections import deque, namedtuple"
      ]
    },
    {
      "cell_type": "markdown",
      "metadata": {
        "id": "EzlDKXvkXzGI"
      },
      "source": [
        "## Part 1 - Building the AI"
      ]
    },
    {
      "cell_type": "markdown",
      "metadata": {
        "id": "UtG6Zc83YYy3"
      },
      "source": [
        "### Creating the architecture of the Neural Network"
      ]
    },
    {
      "cell_type": "code",
      "source": [
        "class Network(nn.Module):\n",
        "  def __init__(self, state_size, action_size, seed = 42):\n",
        "      super(Network, self).__init__()\n",
        "      self.seed = torch.manual_seed(seed)\n",
        "      self.fc1 = nn.Linear(state_size,64)\n",
        "      self.fc2 = nn.Linear(64,64)\n",
        "      self.fc3 = nn.Linear(64,action_size)\n",
        "\n",
        "  def forward(self, state):\n",
        "    x = self.fc1(state)\n",
        "    x = F.relu(x)\n",
        "    x = self.fc2(x)\n",
        "    x = F.relu(x)\n",
        "    return self.fc3(x)"
      ],
      "metadata": {
        "id": "VlLd87VtsnQ1",
        "colab": {
          "base_uri": "https://localhost:8080/"
        },
        "outputId": "3d66f185-7f8e-4769-e5ff-2ac287f63a0c"
      },
      "execution_count": 13,
      "outputs": [
        {
          "output_type": "stream",
          "name": "stderr",
          "text": [
            "/usr/local/lib/python3.10/dist-packages/ipykernel/ipkernel.py:283: DeprecationWarning: `should_run_async` will not call `transform_cell` automatically in the future. Please pass the result to `transformed_cell` argument and any exception that happen during thetransform in `preprocessing_exc_tuple` in IPython 7.17 and above.\n",
            "  and should_run_async(code)\n"
          ]
        }
      ]
    },
    {
      "cell_type": "markdown",
      "metadata": {
        "id": "UxVrBnFWZKb1"
      },
      "source": [
        "## Part 2 - Training the AI"
      ]
    },
    {
      "cell_type": "markdown",
      "metadata": {
        "id": "T364fz9qZb2j"
      },
      "source": [
        "### Setting up the environment"
      ]
    },
    {
      "cell_type": "code",
      "source": [
        "import gymnasium as gym\n",
        "env = gym.make('LunarLander-v2')\n",
        "state_shape = env.observation_space.shape\n",
        "state_size = env.observation_space.shape[0]\n",
        "number_actions = env.action_space.n\n",
        "print('State shape: ', state_shape)\n",
        "print('State size: ', state_size)\n",
        "print('Number of actions: ', number_actions)"
      ],
      "metadata": {
        "colab": {
          "base_uri": "https://localhost:8080/"
        },
        "id": "CCRWblLby2yV",
        "outputId": "eab4e9e7-f9fb-4ea5-f2e5-06c09e2630de"
      },
      "execution_count": 14,
      "outputs": [
        {
          "output_type": "stream",
          "name": "stdout",
          "text": [
            "State shape:  (8,)\n",
            "State size:  8\n",
            "Number of actions:  4\n"
          ]
        }
      ]
    },
    {
      "cell_type": "markdown",
      "metadata": {
        "id": "c_dZmOIvZgj-"
      },
      "source": [
        "### Initializing the hyperparameters"
      ]
    },
    {
      "cell_type": "code",
      "source": [
        "learning_rate = 5e-4\n",
        "minibatch_size = 100\n",
        "discount_factor = 0.99  # gamma closer to the one it considers the future otherwise it is short sighted\n",
        "replay_buffer_size = int(1e5)\n",
        "interpolation_parameter = 1e-3"
      ],
      "metadata": {
        "id": "HS8G7DrO0KJS"
      },
      "execution_count": 15,
      "outputs": []
    },
    {
      "cell_type": "markdown",
      "metadata": {
        "id": "8hD_Vs-bYnip"
      },
      "source": [
        "### Implementing Experience Replay"
      ]
    },
    {
      "cell_type": "code",
      "source": [
        "class ReplayMemory(object):\n",
        "\n",
        "  def __init__(self, capacity):\n",
        "    self.device = torch.device(\"cuda:0\" if torch.cuda.is_available() else \"cpu\")\n",
        "    self.capacity = capacity\n",
        "    self.memory = []\n",
        "\n",
        "  def push(self, event):\n",
        "    self.memory.append(event)\n",
        "    if len(self.memory) > self.capacity:\n",
        "      del self.memory[0]  # removing the oldest event\n",
        "\n",
        "  def sample(self, batch_size):\n",
        "    experiences = random.sample(self.memory, k = batch_size)\n",
        "    states = torch.from_numpy(np.vstack([e[0] for e in experiences if e is not None])).float().to(self.device)\n",
        "    actions = torch.from_numpy(np.vstack([e[1] for e in experiences if e is not None])).long().to(self.device)\n",
        "    rewards = torch.from_numpy(np.vstack([e[2] for e in experiences if e is not None])).float().to(self.device)\n",
        "    next_states = torch.from_numpy(np.vstack([e[3] for e in experiences if e is not None])).float().to(self.device)\n",
        "    dones = torch.from_numpy(np.vstack([e[4] for e in experiences if e is not None]).astype(np.uint8)).float().to(self.device)\n",
        "    return states, next_states, actions, rewards, dones\n"
      ],
      "metadata": {
        "id": "tpFol5C-1WQx"
      },
      "execution_count": 16,
      "outputs": []
    },
    {
      "cell_type": "markdown",
      "metadata": {
        "id": "JmEkbFbUY6Jt"
      },
      "source": [
        "### Implementing the DQN class"
      ]
    },
    {
      "cell_type": "code",
      "source": [
        "class Agent():\n",
        "\n",
        "  def __init__(self, state_size, action_size):\n",
        "    self.device = torch.device(\"cuda:0\" if torch.cuda.is_available() else \"cpu\")\n",
        "    self.state_size = state_size\n",
        "    self.action_size = action_size\n",
        "    self.local_qnetwork = Network(state_size, action_size).to(self.device)\n",
        "    self.target_qnetwork = Network(state_size, action_size).to(self.device)\n",
        "    self.optimizer = optim.Adam(self.local_qnetwork.parameters(), lr = learning_rate)\n",
        "    self.memory = ReplayMemory(replay_buffer_size)\n",
        "    self.t_step = 0\n",
        "\n",
        "  def step(self, state, action, reward, next_state, done):\n",
        "    self.memory.push((state, action, reward, next_state, done))\n",
        "    self.t_step = (self.t_step + 1) % 4\n",
        "    if self.t_step == 0:\n",
        "      if len(self.memory.memory) > minibatch_size:\n",
        "        experiences = self.memory.sample(100)\n",
        "        self.learn(experiences, discount_factor)\n",
        "\n",
        "  def act(self, state, epsilon = 0.):\n",
        "    state = torch.from_numpy(state).float().unsqueeze(0).to(self.device)\n",
        "    self.local_qnetwork.eval()\n",
        "    with torch.no_grad():\n",
        "      action_values = self.local_qnetwork(state)\n",
        "    self.local_qnetwork.train()\n",
        "    if random.random() > epsilon:\n",
        "      return np.argmax(action_values.cpu().data.numpy())\n",
        "    else:\n",
        "      return random.choice(np.arange(self.action_size))\n",
        "\n",
        "  def learn(self, experiences, discount_factor):\n",
        "    states, next_states, actions, rewards, dones = experiences\n",
        "    next_q_targets = self.target_qnetwork(next_states).detach().max(1)[0].unsqueeze(1)\n",
        "    q_targets = rewards + (discount_factor * next_q_targets * (1-dones))\n",
        "    q_expected = self.local_qnetwork(states).gather(1, actions)\n",
        "    loss = F.mse_loss(q_expected, q_targets)\n",
        "    self.optimizer.zero_grad()\n",
        "    loss.backward()\n",
        "    self.optimizer.step()\n",
        "    self.soft_update(self.local_qnetwork, self.target_qnetwork, interpolation_parameter)\n",
        "\n",
        "  def soft_update(self, local_model, target_model, interpolation_parameter):\n",
        "    for target_param, local_param in zip(target_model.parameters(), local_model.parameters()):\n",
        "      target_param.data.copy_(interpolation_parameter * local_param.data + (1.0 - interpolation_parameter) * target_param.data)"
      ],
      "metadata": {
        "id": "apm7vu1u-rts"
      },
      "execution_count": 17,
      "outputs": []
    },
    {
      "cell_type": "markdown",
      "metadata": {
        "id": "o1tZElccZmf6"
      },
      "source": [
        "### Initializing the DQN agent"
      ]
    },
    {
      "cell_type": "code",
      "source": [
        "agent = Agent(state_size, number_actions)"
      ],
      "metadata": {
        "id": "bUpNqXcubADt"
      },
      "execution_count": 18,
      "outputs": []
    },
    {
      "cell_type": "markdown",
      "metadata": {
        "id": "E8v0PtUfaVQp"
      },
      "source": [
        "### Training the DQN agent"
      ]
    },
    {
      "cell_type": "code",
      "source": [
        "number_episodes = 2000\n",
        "maximum_number_timesteps_per_episode = 1000\n",
        "epsilon_starting_value = 1.0\n",
        "epsilon_ending_value = 0.01\n",
        "epsilon_decay_value = 0.995\n",
        "epsilon = epsilon_starting_value\n",
        "scores_on_100_episodes = deque(maxlen = 100)\n",
        "\n",
        "for episode in range(1, number_episodes+1):\n",
        "  state, _ = env.reset()\n",
        "  score = 0\n",
        "  for t in range(maximum_number_timesteps_per_episode):\n",
        "    action = agent.act(state, epsilon)\n",
        "    next_state, reward, done, _, _ = env.step(action)\n",
        "    agent.step(state, action, reward, next_state, done)\n",
        "    state = next_state\n",
        "    score += reward\n",
        "    if done:\n",
        "      break\n",
        "  scores_on_100_episodes.append(score)\n",
        "  epsilon = max(epsilon_ending_value, epsilon_decay_value * epsilon)\n",
        "  print('\\rEpisode {}\\tAverage Score: {:.2f}'.format(episode, np.mean(scores_on_100_episodes)), end = \"\")\n",
        "  if episode % 100 == 0:\n",
        "    print('\\rEpisode {}\\tAverage Score: {:.2f}'.format(episode, np.mean(scores_on_100_episodes)))\n",
        "  if np.mean(scores_on_100_episodes) >= 200.0:\n",
        "    print('\\nEnvironment solved in {:d} episodes!\\tAverage Score: {:.2f}'.format(episode - 100, np.mean(scores_on_100_episodes)))\n",
        "    torch.save(agent.local_qnetwork.state_dict(), 'checkpoint.pth')\n",
        "    break\n",
        "\n"
      ],
      "metadata": {
        "colab": {
          "base_uri": "https://localhost:8080/"
        },
        "id": "Ygp6Fsp9siTC",
        "outputId": "c7afd2cc-64ec-40d7-f81a-519a5141b984"
      },
      "execution_count": 21,
      "outputs": [
        {
          "output_type": "stream",
          "name": "stdout",
          "text": [
            "Episode 100\tAverage Score: -98.39\n",
            "Episode 200\tAverage Score: -31.81\n",
            "Episode 300\tAverage Score: 13.09\n",
            "Episode 400\tAverage Score: 192.86\n",
            "Episode 418\tAverage Score: 202.32\n",
            "Environment solved in 318 episodes!\tAverage Score: 202.32\n"
          ]
        }
      ]
    },
    {
      "cell_type": "markdown",
      "metadata": {
        "id": "O8CNwdOTcCoP"
      },
      "source": [
        "## Part 3 - Visualizing the results"
      ]
    },
    {
      "cell_type": "code",
      "execution_count": 22,
      "metadata": {
        "id": "cb9nVvU2Okhk",
        "colab": {
          "base_uri": "https://localhost:8080/",
          "height": 459
        },
        "outputId": "7cb2774d-0aaa-405e-fad4-a12cb641aff8"
      },
      "outputs": [
        {
          "output_type": "stream",
          "name": "stderr",
          "text": [
            "WARNING:imageio_ffmpeg:IMAGEIO FFMPEG_WRITER WARNING: input image is not divisible by macro_block_size=16, resizing from (600, 400) to (608, 400) to ensure video compatibility with most codecs and players. To prevent resizing, make your input image divisible by the macro_block_size or set the macro_block_size to 1 (risking incompatibility).\n"
          ]
        },
        {
          "output_type": "display_data",
          "data": {
            "text/plain": [
              "<IPython.core.display.HTML object>"
            ],
            "text/html": [
              "<video alt=\"test\" autoplay\n",
              "                loop controls style=\"height: 400px;\">\n",
              "                <source src=\"data:video/mp4;base64,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\" type=\"video/mp4\" />\n",
              "             </video>"
            ]
          },
          "metadata": {}
        }
      ],
      "source": [
        "import glob\n",
        "import io\n",
        "import base64\n",
        "import imageio\n",
        "from IPython.display import HTML, display\n",
        "from gym.wrappers.monitoring.video_recorder import VideoRecorder\n",
        "\n",
        "def show_video_of_model(agent, env_name):\n",
        "    env = gym.make(env_name, render_mode='rgb_array')\n",
        "    state, _ = env.reset()\n",
        "    done = False\n",
        "    frames = []\n",
        "    while not done:\n",
        "        frame = env.render()\n",
        "        frames.append(frame)\n",
        "        action = agent.act(state)\n",
        "        state, reward, done, _, _ = env.step(action.item())\n",
        "    env.close()\n",
        "    imageio.mimsave('video.mp4', frames, fps=30)\n",
        "\n",
        "show_video_of_model(agent, 'LunarLander-v2')\n",
        "\n",
        "def show_video():\n",
        "    mp4list = glob.glob('*.mp4')\n",
        "    if len(mp4list) > 0:\n",
        "        mp4 = mp4list[0]\n",
        "        video = io.open(mp4, 'r+b').read()\n",
        "        encoded = base64.b64encode(video)\n",
        "        display(HTML(data='''<video alt=\"test\" autoplay\n",
        "                loop controls style=\"height: 400px;\">\n",
        "                <source src=\"data:video/mp4;base64,{0}\" type=\"video/mp4\" />\n",
        "             </video>'''.format(encoded.decode('ascii'))))\n",
        "    else:\n",
        "        print(\"Could not find video\")\n",
        "\n",
        "show_video()"
      ]
    }
  ],
  "metadata": {
    "colab": {
      "provenance": [],
      "include_colab_link": true
    },
    "kernelspec": {
      "display_name": "Python 3",
      "name": "python3"
    },
    "language_info": {
      "name": "python"
    }
  },
  "nbformat": 4,
  "nbformat_minor": 0
}